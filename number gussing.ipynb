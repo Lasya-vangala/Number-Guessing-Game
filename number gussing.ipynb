{
 "cells": [
  {
   "cell_type": "markdown",
   "id": "12af48ab-797d-4b62-9658-7b0f8640c174",
   "metadata": {},
   "source": [
    "import random\n",
    "number"
   ]
  },
  {
   "cell_type": "code",
   "execution_count": null,
   "id": "3a7ba735",
   "metadata": {},
   "outputs": [],
   "source": []
  },
  {
   "cell_type": "code",
   "execution_count": 5,
   "id": "09058f4c-4c84-48f0-90e5-27df364454d3",
   "metadata": {},
   "outputs": [
    {
     "name": "stdout",
     "output_type": "stream",
     "text": [
      "welcome\n"
     ]
    },
    {
     "name": "stdin",
     "output_type": "stream",
     "text": [
      "guess a number: 60\n"
     ]
    },
    {
     "name": "stdout",
     "output_type": "stream",
     "text": [
      "you're  guess is too high.\n"
     ]
    },
    {
     "name": "stdin",
     "output_type": "stream",
     "text": [
      "guess a number: 45\n"
     ]
    },
    {
     "name": "stdout",
     "output_type": "stream",
     "text": [
      "you're  guess is too high.\n"
     ]
    },
    {
     "name": "stdin",
     "output_type": "stream",
     "text": [
      "guess a number: 25\n"
     ]
    },
    {
     "name": "stdout",
     "output_type": "stream",
     "text": [
      "you're guess  is very close! just a bit high.\n"
     ]
    },
    {
     "name": "stdin",
     "output_type": "stream",
     "text": [
      "guess a number: 23\n"
     ]
    },
    {
     "name": "stdout",
     "output_type": "stream",
     "text": [
      "you're guess  is very close! just a bit high.\n"
     ]
    },
    {
     "name": "stdin",
     "output_type": "stream",
     "text": [
      "guess a number: 21\n"
     ]
    },
    {
     "name": "stdout",
     "output_type": "stream",
     "text": [
      "Congratulations! you're guess is correct in 5 attempts.\n"
     ]
    },
    {
     "name": "stdin",
     "output_type": "stream",
     "text": [
      "Do you want to play again? (yes/no):  yes\n"
     ]
    },
    {
     "name": "stdout",
     "output_type": "stream",
     "text": [
      "welcome\n"
     ]
    },
    {
     "name": "stdin",
     "output_type": "stream",
     "text": [
      "guess a number: 43\n"
     ]
    },
    {
     "name": "stdout",
     "output_type": "stream",
     "text": [
      "you're guess  is very close! just a bit high.\n"
     ]
    },
    {
     "name": "stdin",
     "output_type": "stream",
     "text": [
      "guess a number: 40\n"
     ]
    },
    {
     "name": "stdout",
     "output_type": "stream",
     "text": [
      "you're guess is very close! just a bit low.\n"
     ]
    },
    {
     "name": "stdin",
     "output_type": "stream",
     "text": [
      "guess a number: 39\n"
     ]
    },
    {
     "name": "stdout",
     "output_type": "stream",
     "text": [
      "you're guess is very close! just a bit low.\n"
     ]
    },
    {
     "name": "stdin",
     "output_type": "stream",
     "text": [
      "guess a number: 41\n"
     ]
    },
    {
     "name": "stdout",
     "output_type": "stream",
     "text": [
      "you're guess is very close! just a bit low.\n"
     ]
    },
    {
     "name": "stdin",
     "output_type": "stream",
     "text": [
      "guess a number: 42\n"
     ]
    },
    {
     "name": "stdout",
     "output_type": "stream",
     "text": [
      "Congratulations! you're guess is correct in 5 attempts.\n"
     ]
    },
    {
     "name": "stdin",
     "output_type": "stream",
     "text": [
      "Do you want to play again? (yes/no):  no\n"
     ]
    },
    {
     "name": "stdout",
     "output_type": "stream",
     "text": [
      "Thanks for playing!\n"
     ]
    },
    {
     "name": "stdout",
     "output_type": "stream",
     "text": [
      "you're guess is very close! just a bit low.\n"
     ]
    },
    {
     "name": "stdout",
     "output_type": "stream",
     "text": [
      "guess a number: 95\n"
     ]
    },
    {
     "name": "stdout",
     "output_type": "stream",
     "text": [
      "you're guess is very close! just a bit low.\n"
     ]
    },
    {
     "name": "stdout",
     "output_type": "stream",
     "text": [
      "guess a number: 96\n"
     ]
    },
    {
     "name": "stdout",
     "output_type": "stream",
     "text": [
      "you're guess is very close! just a bit low.\n"
     ]
    },
    {
     "name": "stdout",
     "output_type": "stream",
     "text": [
      "guess a number: 97\n"
     ]
    },
    {
     "name": "stdout",
     "output_type": "stream",
     "text": [
      "you're guess is very close! just a bit low.\n"
     ]
    },
    {
     "name": "stdout",
     "output_type": "stream",
     "text": [
      "guess a number: 98\n"
     ]
    },
    {
     "name": "stdout",
     "output_type": "stream",
     "text": [
      "Congratulations! you're guess is correct in 6 attempts.\n"
     ]
    },
    {
     "name": "stdout",
     "output_type": "stream",
     "text": [
      "Do you want to play again? (yes/no):  yes\n"
     ]
    },
    {
     "name": "stdout",
     "output_type": "stream",
     "text": [
      "welcome\n"
     ]
    },
    {
     "name": "stdout",
     "output_type": "stream",
     "text": [
      "guess a number: 799\n"
     ]
    },
    {
     "name": "stdout",
     "output_type": "stream",
     "text": [
      "you're  guess is too high.\n"
     ]
    },
    {
     "name": "stdout",
     "output_type": "stream",
     "text": [
      "guess a number: 45\n"
     ]
    },
    {
     "name": "stdout",
     "output_type": "stream",
     "text": [
      "your guess is too low.\n"
     ]
    },
    {
     "name": "stdout",
     "output_type": "stream",
     "text": [
      "guess a number: 55\n"
     ]
    },
    {
     "name": "stdout",
     "output_type": "stream",
     "text": [
      "you're guess is very close! just a bit low.\n"
     ]
    },
    {
     "name": "stdout",
     "output_type": "stream",
     "text": [
      "guess a number: 60\n"
     ]
    },
    {
     "name": "stdout",
     "output_type": "stream",
     "text": [
      "you're guess  is very close! just a bit high.\n"
     ]
    },
    {
     "name": "stdout",
     "output_type": "stream",
     "text": [
      "guess a number: 58\n"
     ]
    },
    {
     "name": "stdout",
     "output_type": "stream",
     "text": [
      "Congratulations! you're guess is correct in 5 attempts.\n"
     ]
    },
    {
     "name": "stdout",
     "output_type": "stream",
     "text": [
      "Do you want to play again? (yes/no):  no\n"
     ]
    },
    {
     "name": "stdout",
     "output_type": "stream",
     "text": [
      "Thanks for playing!\n"
     ]
    }
   ],
   "source": [
    "#### import random\n",
    "\n",
    "def number_guessing():\n",
    "    number=random.randint(1,100)\n",
    "    attempts=0\n",
    "    max_attempts=10\n",
    "\n",
    "    print(\"welcome\")\n",
    "\n",
    "    while attempts<max_attempts:\n",
    "        guess=int(input(\"guess a number:\"))\n",
    "        attempts+=1\n",
    "        \n",
    "        if guess<number :\n",
    "            difference=number-guess\n",
    "            if difference<=5:\n",
    "                print(\"you're guess is very close! just a bit low.\")\n",
    "            elif difference<=10:\n",
    "                print(\"you're guess is close! but still a bit lower.\")\n",
    "            else:\n",
    "                print(\"your guess is too low.\")\n",
    "                \n",
    "        elif  guess>number:\n",
    "            difference=guess-number\n",
    "            if difference<=5:\n",
    "                print(\"you're guess  is very close! just a bit high.\")\n",
    "            elif difference<=10:\n",
    "                print(\"you're guess is close! but still a bit higher.\" )\n",
    "            else:\n",
    "                print(\"you're  guess is too high.\")\n",
    "                \n",
    "        else:\n",
    "            print(f\"Congratulations! you're guess is correct in {attempts} attempts.\")\n",
    "            break\n",
    "            \n",
    "    if attempts==max_attempts:\n",
    "        print(f\"Sorry, you've run out of attempts. The correct number was {number}.\")\n",
    "          \n",
    "   \n",
    "    play_again = input(\"Do you want to play again? (yes/no): \").lower()\n",
    "    if play_again == \"yes\":\n",
    "        number_guessing()  \n",
    "    else:\n",
    "        print(\"Thanks for playing!\")\n",
    "\n",
    "\n",
    " \n",
    "number_guessing()   \n"
   ]
  },
  {
   "cell_type": "code",
   "execution_count": null,
   "id": "f98d3292-8b82-47da-b030-a3695aac0195",
   "metadata": {},
   "outputs": [],
   "source": []
  }
 ],
 "metadata": {
  "kernelspec": {
   "display_name": "Python 3 (ipykernel)",
   "language": "python",
   "name": "python3"
  },
  "language_info": {
   "codemirror_mode": {
    "name": "ipython",
    "version": 3
   },
   "file_extension": ".py",
   "mimetype": "text/x-python",
   "name": "python",
   "nbconvert_exporter": "python",
   "pygments_lexer": "ipython3",
   "version": "3.12.7"
  }
 },
 "nbformat": 4,
 "nbformat_minor": 5
}
